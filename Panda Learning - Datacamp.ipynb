{
 "cells": [
  {
   "cell_type": "code",
   "execution_count": null,
   "metadata": {},
   "outputs": [],
   "source": [
    "import numpy as np\n",
    "import pandas as pd"
   ]
  },
  {
   "cell_type": "code",
   "execution_count": null,
   "metadata": {},
   "outputs": [],
   "source": [
    "# You can use the DataFrame methods .head() and .tail() to view the first few and last few rows of a DataFrame\n",
    "df.head()\n",
    "df.tail()"
   ]
  },
  {
   "cell_type": "code",
   "execution_count": null,
   "metadata": {},
   "outputs": [],
   "source": [
    "# df.info() to determine information about the total count of non-null entries and infer the total count of null\n",
    "# entries, which likely indicates missing data.\n",
    "df.info()\n",
    "# <class 'pandas.core.frame.DataFrame'>\n",
    "# RangeIndex: 13374 entries, 0 to 13373\n",
    "# Data columns (total 5 columns):\n",
    "# CountryName                      13374 non-null object\n",
    "# CountryCode                      13374 non-null object\n",
    "# Year                             13374 non-null int64\n",
    "# Total Population                 9914 non-null float64\n",
    "# Urban population (% of total)    13374 non-null float64\n",
    "# dtypes: float64(2), int64(1), object(2)\n",
    "# memory usage: 522.5+ KB"
   ]
  },
  {
   "cell_type": "code",
   "execution_count": null,
   "metadata": {},
   "outputs": [],
   "source": [
    "# you can use the DataFrame attribute .values to represent a DataFrame df as a NumPy array. \n",
    "# You can also pass pandas data structures to NumPy methods.\n",
    "\n",
    "# Create array of DataFrame values: np_vals\n",
    "np_vals = df.values\n",
    "\n",
    "# Create new array of base 10 logarithm values: np_vals_log10\n",
    "np_vals_log10 = np.log10(np_vals)\n",
    "\n",
    "# Create array of new DataFrame by passing df to np.log10(): df_log10\n",
    "df_log10 =np.log10(df)\n",
    "\n",
    "# Print original and new data containers\n",
    "[print(x, 'has type', type(eval(x))) for x in ['np_vals', 'np_vals_log10', 'df', 'df_log10']]\n",
    "\n",
    "# <script.py> output:\n",
    "#     np_vals has type <class 'numpy.ndarray'>\n",
    "#     np_vals_log10 has type <class 'numpy.ndarray'>\n",
    "#     df has type <class 'pandas.core.frame.DataFrame'>\n",
    "#     df_log10 has type <class 'pandas.core.frame.DataFrame'>"
   ]
  }
 ],
 "metadata": {
  "kernelspec": {
   "display_name": "Python 3",
   "language": "python",
   "name": "python3"
  },
  "language_info": {
   "codemirror_mode": {
    "name": "ipython",
    "version": 3
   },
   "file_extension": ".py",
   "mimetype": "text/x-python",
   "name": "python",
   "nbconvert_exporter": "python",
   "pygments_lexer": "ipython3",
   "version": "3.7.4"
  }
 },
 "nbformat": 4,
 "nbformat_minor": 2
}
